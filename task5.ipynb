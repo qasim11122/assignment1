{
 "cells": [
  {
   "cell_type": "code",
   "execution_count": 2,
   "metadata": {},
   "outputs": [
    {
     "ename": "IndentationError",
     "evalue": "unindent does not match any outer indentation level (<tokenize>, line 8)",
     "output_type": "error",
     "traceback": [
      "\u001b[1;36m  File \u001b[1;32m\"<tokenize>\"\u001b[1;36m, line \u001b[1;32m8\u001b[0m\n\u001b[1;33m    def enqueue(self, data):\u001b[0m\n\u001b[1;37m    ^\u001b[0m\n\u001b[1;31mIndentationError\u001b[0m\u001b[1;31m:\u001b[0m unindent does not match any outer indentation level\n"
     ]
    }
   ],
   "source": [
    " def __init__(self, size): # initializing the class \n",
    "        self.size = size \n",
    "          \n",
    "        # initializing queue with none \n",
    "        self.queue = [None for i in range(size)]  \n",
    "        self.front = self.rear = -1\n",
    "  \n",
    "    def enqueue(self, data): \n",
    "          \n",
    "        # condition if queue is full \n",
    "        if ((self.rear + 1) % self.size == self.front):  \n",
    "            print(\" Queue is Full\\n\") \n",
    "              \n",
    "        # condition for empty queue \n",
    "        elif (self.front == -1):  \n",
    "            self.front = 0\n",
    "            self.rear = 0\n",
    "            self.queue[self.rear] = data \n",
    "        else: \n",
    "              \n",
    "            # next position of rear \n",
    "            self.rear = (self.rear + 1) % self.size  \n",
    "            self.queue[self.rear] = data \n",
    "              \n",
    "    def dequeue(self): \n",
    "        if (self.front == -1): # codition for empty queue \n",
    "            print (\"Queue is Empty\\n\") \n",
    "              \n",
    "        # condition for only one element \n",
    "        elif (self.front == self.rear):  \n",
    "            temp=self.queue[self.front] \n",
    "            self.front = -1\n",
    "            self.rear = -1\n",
    "            return temp \n",
    "        else: \n",
    "            temp = self.queue[self.front] \n",
    "            self.front = (self.front + 1) % self.size \n",
    "            return temp \n",
    "  \n",
    "    def display(self): \n",
    "      \n",
    "        # condition for empty queue \n",
    "        if(self.front == -1):  \n",
    "            print (\"Queue is Empty\") \n",
    "  \n",
    "        elif (self.rear >= self.front): \n",
    "            print(\"Elements in the circular queue are:\",  \n",
    "                                              end = \" \") \n",
    "            for i in range(self.front, self.rear + 1): \n",
    "                print(self.queue[i], end = \" \") \n",
    "            print () \n",
    "  \n",
    "        else: \n",
    "            print (\"Elements in Circular Queue are:\",  \n",
    "                                           end = \" \") \n",
    "            for i in range(self.front, self.size): \n",
    "                print(self.queue[i], end = \" \") \n",
    "            for i in range(0, self.rear + 1): \n",
    "                print(self.queue[i], end = \" \") \n",
    "            print () \n",
    "  \n",
    "        if ((self.rear + 1) % self.size == self.front): \n",
    "            print(\"Queue is Full\") \n",
    "  \n",
    "# Driver Code \n",
    "ob = CircularQueue(5) \n",
    "ob.enqueue(14) \n",
    "ob.enqueue(22) \n",
    "ob.enqueue(13) \n",
    "ob.enqueue(-6) \n",
    "ob.display() \n",
    "int result\n",
    "result=max(ob)"
   ]
  },
  {
   "cell_type": "code",
   "execution_count": null,
   "metadata": {},
   "outputs": [],
   "source": []
  }
 ],
 "metadata": {
  "kernelspec": {
   "display_name": "Python 3",
   "language": "python",
   "name": "python3"
  },
  "language_info": {
   "codemirror_mode": {
    "name": "ipython",
    "version": 3
   },
   "file_extension": ".py",
   "mimetype": "text/x-python",
   "name": "python",
   "nbconvert_exporter": "python",
   "pygments_lexer": "ipython3",
   "version": "3.8.3"
  }
 },
 "nbformat": 4,
 "nbformat_minor": 4
}
