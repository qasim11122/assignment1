{
 "cells": [
  {
   "cell_type": "code",
   "execution_count": 3,
   "metadata": {},
   "outputs": [
    {
     "name": "stdout",
     "output_type": "stream",
     "text": [
      "Initial queue\n",
      "['z', 'l', 'c']\n",
      "\n",
      "Elements dequeued from queue\n",
      "z\n",
      "l\n",
      "c\n",
      "\n",
      "Queue after removing elements\n",
      "[]\n"
     ]
    }
   ],
   "source": [
    "import math  \n",
    "num = 0  \n",
    "primeList = []\n",
    "\n",
    "def isprime(test):\n",
    "    if test == 2:  \n",
    "        primeList.append(2)  \n",
    "        return True  \n",
    "    elif test < 2:  \n",
    "        return False  \n",
    "    else:  \n",
    "        for i in primeList:  \n",
    "            if i > math.sqrt(test):\n",
    "                break\n",
    "            elif test % i == 0:\n",
    "                return False\n",
    "        primeList.append(test)\n",
    "        return True\n",
    "\n",
    "def rotations(n):\n",
    "    answer = []\n",
    "    rotation = n\n",
    "    while not rotation in answer:\n",
    "        answer.append(rotation)\n",
    "        rotation = int(str(rotation)[1:] + str(rotation)[0])\n",
    "    return answer\n",
    "\n",
    "for i in range(2,1000000):\n",
    "    numList = rotations(i)\n",
    "    valid = True\n",
    "    for j in numList:\n",
    "        if not isprime(j):\n",
    "            valid = False\n",
    "    if valid:\n",
    "        num += 1\n",
    "\n",
    "    print(num)"
   ]
  },
  {
   "cell_type": "code",
   "execution_count": null,
   "metadata": {},
   "outputs": [],
   "source": []
  }
 ],
 "metadata": {
  "kernelspec": {
   "display_name": "Python 3",
   "language": "python",
   "name": "python3"
  },
  "language_info": {
   "codemirror_mode": {
    "name": "ipython",
    "version": 3
   },
   "file_extension": ".py",
   "mimetype": "text/x-python",
   "name": "python",
   "nbconvert_exporter": "python",
   "pygments_lexer": "ipython3",
   "version": "3.8.3"
  }
 },
 "nbformat": 4,
 "nbformat_minor": 4
}
