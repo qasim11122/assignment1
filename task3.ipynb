{
 "cells": [
  {
   "cell_type": "code",
   "execution_count": 3,
   "metadata": {},
   "outputs": [
    {
     "name": "stdout",
     "output_type": "stream",
     "text": [
      "Initial queue\n",
      "['z', 'l', 'c']\n",
      "\n",
      "Elements dequeued from queue\n",
      "z\n",
      "l\n",
      "c\n",
      "\n",
      "Queue after removing elements\n",
      "[]\n"
     ]
    }
   ],
   "source": [
    "maxprime = 12\n",
    " \n",
    "def primes(n):\n",
    "    multiples = set()\n",
    "    prime = []\n",
    "    for i in range(2, n+1):\n",
    "        if i not in multiples:\n",
    "            prime.append(i)\n",
    "            multiples.update(set(range(i*i, n+1, i)))\n",
    "    return prime\n",
    " \n",
    "def truncatableprime(n):\n",
    "    'Return a longest left and right truncatable primes below n'\n",
    "    primelist = [str(x) for x in primes(n)[::-1]]\n",
    "    primeset = set(primelist)\n",
    "    for n in primelist:\n",
    "        # n = 'abc'; [n[i:] for i in range(len(n))] -> ['abc', 'bc', 'c']\n",
    "        alltruncs = set(n[i:] for i in range(len(n)))\n",
    "        if alltruncs.issubset(primeset):\n",
    "            truncateleft = int(n)\n",
    "            break\n",
    "    for n in primelist:\n",
    "        # n = 'abc'; [n[:i+1] for i in range(len(n))] -> ['a', 'ab', 'abc']\n",
    "        alltruncs = set([n[:i+1] for i in range(len(n))])\n",
    "        if alltruncs.issubset(primeset):\n",
    "            truncateright = int(n)\n",
    "            break\n",
    "    return truncateleft, truncateright\n",
    " \n",
    "print(truncatableprime(maxprime))"
   ]
  },
  {
   "cell_type": "code",
   "execution_count": null,
   "metadata": {},
   "outputs": [],
   "source": []
  }
 ],
 "metadata": {
  "kernelspec": {
   "display_name": "Python 3",
   "language": "python",
   "name": "python3"
  },
  "language_info": {
   "codemirror_mode": {
    "name": "ipython",
    "version": 3
   },
   "file_extension": ".py",
   "mimetype": "text/x-python",
   "name": "python",
   "nbconvert_exporter": "python",
   "pygments_lexer": "ipython3",
   "version": "3.8.3"
  }
 },
 "nbformat": 4,
 "nbformat_minor": 4
}
