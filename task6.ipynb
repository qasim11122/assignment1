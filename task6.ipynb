{
 "cells": [
  {
   "cell_type": "code",
   "execution_count": 3,
   "metadata": {},
   "outputs": [
    {
     "name": "stdout",
     "output_type": "stream",
     "text": [
      "Initial queue\n",
      "['z', 'l', 'c']\n",
      "\n",
      "Elements dequeued from queue\n",
      "z\n",
      "l\n",
      "c\n",
      "\n",
      "Queue after removing elements\n",
      "[]\n"
     ]
    }
   ],
   "source": [
    "queue = [] \n",
    "  \n",
    "queue.append('z') \n",
    "queue.append('l') \n",
    "queue.append('c') \n",
    "  \n",
    "print(\"Initial queue\") \n",
    "print(queue) \n",
    "  \n",
    "print(\"\\nElements dequeued from queue\") \n",
    "print(queue.pop(0)) \n",
    "print(queue.pop(0)) \n",
    "print(queue.pop(0)) \n",
    "  \n",
    "print(\"\\nQueue after removing elements\") \n",
    "print(queue)"
   ]
  },
  {
   "cell_type": "code",
   "execution_count": null,
   "metadata": {},
   "outputs": [],
   "source": []
  }
 ],
 "metadata": {
  "kernelspec": {
   "display_name": "Python 3",
   "language": "python",
   "name": "python3"
  },
  "language_info": {
   "codemirror_mode": {
    "name": "ipython",
    "version": 3
   },
   "file_extension": ".py",
   "mimetype": "text/x-python",
   "name": "python",
   "nbconvert_exporter": "python",
   "pygments_lexer": "ipython3",
   "version": "3.8.3"
  }
 },
 "nbformat": 4,
 "nbformat_minor": 4
}
