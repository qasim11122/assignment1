{
 "cells": [
  {
   "cell_type": "code",
   "execution_count": 3,
   "metadata": {},
   "outputs": [
    {
     "name": "stdout",
     "output_type": "stream",
     "text": [
      "Initial queue\n",
      "['z', 'l', 'c']\n",
      "\n",
      "Elements dequeued from queue\n",
      "z\n",
      "l\n",
      "c\n",
      "\n",
      "Queue after removing elements\n",
      "[]\n"
     ]
    }
   ],
   "source": [
    "lychrel = set()\n",
    "    nonlychrel = set()\n",
    "    count = 0\n",
    "    for i in range(n):\n",
    "        j = i\n",
    "        if i in lychrel:\n",
    "            count += 1\n",
    "            continue\n",
    "        stack = [i]\n",
    "        r = int(str(i)[::-1])\n",
    "        for _ in range(m):\n",
    "            i += r\n",
    "            if i in lychrel:\n",
    "                count += 1\n",
    "                lychrel.update(stack)\n",
    "                break\n",
    "            if i in nonlychrel:\n",
    "                nonlychrel.update(stack)\n",
    "                break\n",
    "            stack.append(i)\n",
    "            r = int(str(i)[::-1])\n",
    "            if i == r:\n",
    "                nonlychrel.update(stack)\n",
    "                break\n",
    "        else:\n",
    "            count += 1\n",
    "            lychrel.update(stack)\n",
    "    return count"
   ]
  },
  {
   "cell_type": "code",
   "execution_count": null,
   "metadata": {},
   "outputs": [],
   "source": []
  }
 ],
 "metadata": {
  "kernelspec": {
   "display_name": "Python 3",
   "language": "python",
   "name": "python3"
  },
  "language_info": {
   "codemirror_mode": {
    "name": "ipython",
    "version": 3
   },
   "file_extension": ".py",
   "mimetype": "text/x-python",
   "name": "python",
   "nbconvert_exporter": "python",
   "pygments_lexer": "ipython3",
   "version": "3.8.3"
  }
 },
 "nbformat": 4,
 "nbformat_minor": 4
}
